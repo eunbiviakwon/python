{
 "cells": [
  {
   "cell_type": "code",
   "execution_count": 6,
   "metadata": {},
   "outputs": [
    {
     "ename": "SyntaxError",
     "evalue": "invalid syntax (<ipython-input-6-8becc0f3c395>, line 2)",
     "output_type": "error",
     "traceback": [
      "\u001b[0;36m  File \u001b[0;32m\"<ipython-input-6-8becc0f3c395>\"\u001b[0;36m, line \u001b[0;32m2\u001b[0m\n\u001b[0;31m    if key == \"가을\"\u001b[0m\n\u001b[0m                  ^\u001b[0m\n\u001b[0;31mSyntaxError\u001b[0m\u001b[0;31m:\u001b[0m invalid syntax\n"
     ]
    }
   ],
   "source": [
    "q1 =  {\"봄\": \"딸기\", \"여름\": \"토마토\", \"가을\": \"사과\"}\n",
    "if key == \"가을\"\n",
    "    print('사과')\n"
   ]
  },
  {
   "cell_type": "code",
   "execution_count": 10,
   "metadata": {},
   "outputs": [
    {
     "name": "stdout",
     "output_type": "stream",
     "text": [
      "A학점\n"
     ]
    }
   ],
   "source": [
    "n = 100\n",
    "\n",
    "if n <= 20:\n",
    "    print('E학점')\n",
    "elif n <= 40:\n",
    "    print('D학점')\n",
    "elif n <= 60:\n",
    "    print('C학점')\n",
    "elif n <= 80:\n",
    "    print('B학점')\n",
    "else:\n",
    "    print('A학점')"
   ]
  },
  {
   "cell_type": "code",
   "execution_count": null,
   "metadata": {},
   "outputs": [],
   "source": [
    "# 4. 다음 세 개의 숫자 중 가장 큰수를 출력하세요.(if문 사용) : 12, 6, 18\n",
    "if a > b\n",
    "print(a)\n"
   ]
  }
 ],
 "metadata": {
  "kernelspec": {
   "display_name": "Python 3",
   "language": "python",
   "name": "python3"
  },
  "language_info": {
   "codemirror_mode": {
    "name": "ipython",
    "version": 3
   },
   "file_extension": ".py",
   "mimetype": "text/x-python",
   "name": "python",
   "nbconvert_exporter": "python",
   "pygments_lexer": "ipython3",
   "version": "3.7.5"
  }
 },
 "nbformat": 4,
 "nbformat_minor": 2
}
